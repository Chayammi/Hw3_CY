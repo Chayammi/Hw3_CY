{
 "cells": [
  {
   "cell_type": "markdown",
   "metadata": {
    "Collapsed": "false"
   },
   "source": [
    "# Homework 3: Charbel Yammine\n",
    "## Summary\n",
    "In Homework 3 we analyze and do some EDA for different categories and information for the Pocket Monsters from Pokemon.\n",
    "## Goals\n",
    "Our goal for this Homework is to analyze and conclude what will be the best dual-type combination in pokemon. The requirements in order to be considered the \"best combination\" is as follows:\n",
    "\n",
    "    - Least amount of weaknesses against all typings.\n",
    "    - Best typing that is most effective against most pokemon that already exist."
   ]
  },
  {
   "cell_type": "markdown",
   "metadata": {
    "Collapsed": "false"
   },
   "source": [
    "## Preliminaries"
   ]
  },
  {
   "cell_type": "code",
   "execution_count": 1,
   "metadata": {
    "Collapsed": "false"
   },
   "outputs": [],
   "source": [
    "# To auto-reload modules in jupyter notebook (so that changes in files *.py doesn't require manual reloading):\n",
    "# https://stackoverflow.com/questions/5364050/reloading-submodules-in-ipython\n",
    "%load_ext autoreload\n",
    "%autoreload 2"
   ]
  },
  {
   "cell_type": "markdown",
   "metadata": {
    "Collapsed": "false"
   },
   "source": [
    "Import commonly used libraries and magic command for inline plotting"
   ]
  },
  {
   "cell_type": "code",
   "execution_count": 2,
   "metadata": {
    "Collapsed": "false"
   },
   "outputs": [],
   "source": [
    "import numpy as np\n",
    "import pandas as pd\n",
    "import matplotlib.pyplot as plt\n",
    "import seaborn as sns\n",
    "import os\n",
    "\n",
    "\n",
    "from bs4 import BeautifulSoup\n",
    "import requests\n"
   ]
  },
  {
   "cell_type": "code",
   "execution_count": 3,
   "metadata": {},
   "outputs": [],
   "source": [
    "%matplotlib inline"
   ]
  },
  {
   "cell_type": "markdown",
   "metadata": {
    "Collapsed": "false"
   },
   "source": [
    "## Work\n",
    "\n",
    "This is where work gets done."
   ]
  },
  {
   "cell_type": "markdown",
   "metadata": {
    "Collapsed": "false"
   },
   "source": [
    "# Part 1: Information Gathering\n",
    "In this first portion we're going to be doing some API grabs from \"PokeApi: The RESTful Pokemon Api\"."
   ]
  },
  {
   "cell_type": "code",
   "execution_count": 4,
   "metadata": {},
   "outputs": [
    {
     "name": "stdout",
     "output_type": "stream",
     "text": [
      "Pokémon information saved to pokemon_data.csv.\n"
     ]
    }
   ],
   "source": [
    "import requests\n",
    "import pandas as pd\n",
    "\n",
    "# Make a request to the PokéAPI to get a list of all Pokémon\n",
    "response = requests.get('https://pokeapi.co/api/v2/pokemon?limit=1010')\n",
    "pokemon_data = response.json()['results']\n",
    "\n",
    "# Initialize lists to store Pokémon attributes\n",
    "names = []\n",
    "primary_types = []\n",
    "secondary_types = []\n",
    "generations = []\n",
    "\n",
    "# Iterate over each Pokémon and retrieve its detailed information\n",
    "for pokemon in pokemon_data:\n",
    "    pokemon_url = pokemon['url']\n",
    "    pokemon_response = requests.get(pokemon_url)\n",
    "    pokemon_details = pokemon_response.json()\n",
    "    \n",
    "    # Extract the name\n",
    "    names.append(pokemon_details['name'])\n",
    "    \n",
    "    # Extract the primary type\n",
    "    primary_types.append(pokemon_details['types'][0]['type']['name'])\n",
    "    \n",
    "    # Extract the secondary type, if available\n",
    "    if len(pokemon_details['types']) > 1:\n",
    "        secondary_types.append(pokemon_details['types'][1]['type']['name'])\n",
    "    else:\n",
    "        secondary_types.append(None)\n",
    "    \n",
    "    # Extract the generation\n",
    "    generation_url = pokemon_details['species']['url']\n",
    "    generation_response = requests.get(generation_url)\n",
    "    generation_data = generation_response.json()\n",
    "    generation = generation_data['generation']['name']\n",
    "    generations.append(generation)\n",
    "\n",
    "# Create a dataframe using the collected data\n",
    "data = {'Name': names, 'Primary Type': primary_types, 'Secondary Type': secondary_types, 'Generation': generations}\n",
    "df = pd.DataFrame(data)\n",
    "\n",
    "# Save the dataframe to a CSV file\n",
    "df.to_csv('Output/pokemon_data.csv', index=False)\n",
    "\n",
    "print(\"Pokémon information saved to pokemon_data.csv.\")\n"
   ]
  },
  {
   "cell_type": "code",
   "execution_count": 5,
   "metadata": {},
   "outputs": [],
   "source": [
    "file_path = \"output/Pandas_Profiling_Report.html\"\n",
    "pokemon_dataframe = pd.read_csv('Output/pokemon_data.csv')\n",
    "\n",
    "# If there is no Profiling Report already made, make one.\n",
    "if not os.path.exists(file_path):\n",
    "    from ydata_profiling import ProfileReport\n",
    "    profile = ProfileReport(pokemon_dataframe, title=\"Pandas Profiling Report\")\n",
    "    profile.to_file(file_path)"
   ]
  },
  {
   "cell_type": "markdown",
   "metadata": {},
   "source": [
    "After grabbing our information I decided to do a profiling report, and found some interesting conclusions:\n",
    "\n",
    "1. The most common primary typing is Water type.\n",
    "2. Around half of our dataset (pokemon in the list) only have 1 typing.\n",
    "\n",
    "Given the following information we can conclude that it's best that we find a type combination that works well against water types and/or find out which pokemon most often are found with only one type and try to exploit that weakness as well.\n",
    "\n",
    "That being said however; these are additional conditions that only need to be met if the primary criteria (listed above in goals) is met by one or more type combinations. "
   ]
  },
  {
   "cell_type": "code",
   "execution_count": 7,
   "metadata": {},
   "outputs": [
    {
     "name": "stdout",
     "output_type": "stream",
     "text": [
      "Number of type effectiveness greater than or equal to 2 per type:\n",
      "Normal      1\n",
      "Fire        3\n",
      "Water       2\n",
      "Electric    1\n",
      "Grass       5\n",
      "Ice         4\n",
      "Fighting    3\n",
      "Poison      2\n",
      "Ground      3\n",
      "Flying      3\n",
      "Psychic     3\n",
      "Bug         3\n",
      "Rock        5\n",
      "Ghost       2\n",
      "Dragon      3\n",
      "Dark        3\n",
      "Steel       3\n",
      "Fairy       2\n",
      "dtype: int64\n"
     ]
    }
   ],
   "source": [
    "import pandas as pd\n",
    "\n",
    "# Read the CSV file into a DataFrame\n",
    "data = pd.read_csv('Input/type_data.csv', index_col=0)\n",
    "\n",
    "# Calculate the number of type effectiveness greater than 2 for each type\n",
    "weaknesses = (data >= 2).sum(axis=0)\n",
    "\n",
    "# Display the number of type effectiveness greater than 2 for each type\n",
    "print(\"Number of type effectiveness greater than or equal to 2 per type:\")\n",
    "print(weaknesses)\n",
    "\n",
    "\n"
   ]
  },
  {
   "cell_type": "markdown",
   "metadata": {},
   "source": [
    "# Finding All Combinations, Then Finding the Best."
   ]
  },
  {
   "cell_type": "code",
   "execution_count": 8,
   "metadata": {},
   "outputs": [
    {
     "name": "stdout",
     "output_type": "stream",
     "text": [
      "              Name Primary Type Secondary Type     Generation\n",
      "0        bulbasaur        grass         poison   generation-i\n",
      "1          ivysaur        grass         poison   generation-i\n",
      "2         venusaur        grass         poison   generation-i\n",
      "3       charmander         fire           None   generation-i\n",
      "4       charmeleon         fire           None   generation-i\n",
      "...            ...          ...            ...            ...\n",
      "1005  iron-valiant        fairy       fighting  generation-ix\n",
      "1006      koraidon     fighting         dragon  generation-ix\n",
      "1007      miraidon     electric         dragon  generation-ix\n",
      "1008  walking-wake        water         dragon  generation-ix\n",
      "1009   iron-leaves        grass        psychic  generation-ix\n",
      "\n",
      "[1010 rows x 4 columns]\n"
     ]
    }
   ],
   "source": [
    "import pandas as pd\n",
    "import itertools\n",
    "\n",
    "# List of Pokémon types\n",
    "types = ['Normal', 'Fire', 'Water', 'Electric', 'Grass', 'Ice', 'Fighting',\n",
    "         'Poison', 'Ground', 'Flying', 'Psychic', 'Bug', 'Rock', 'Ghost',\n",
    "         'Dragon', 'Dark', 'Steel', 'Fairy']\n",
    "\n",
    "# Generate all possible combinations of 2 types\n",
    "type_combinations = list(itertools.combinations(types, 2))\n",
    "\n",
    "# Create a pandas dataframe\n",
    "pkmn_df = pd.DataFrame(type_combinations, columns=['Type 1', 'Type 2'])\n",
    "\n",
    "# Print the dataframe\n",
    "print(df)\n"
   ]
  },
  {
   "cell_type": "markdown",
   "metadata": {},
   "source": [
    "Before any real work can be done determining which types are the best, it's important to first get a list of all possible type combinations; both for currently existing pokemon and for combinations that do not have pokemon for it yet. This was determined by simply combining types and appending them to a list. I used Itertools to iterate over all combinations and omit any duplicates."
   ]
  },
  {
   "cell_type": "code",
   "execution_count": 9,
   "metadata": {},
   "outputs": [
    {
     "name": "stdout",
     "output_type": "stream",
     "text": [
      "Normal/Ghost: 1 cells >= 2\n",
      "Water/Ground: 1 cells >= 2\n",
      "Poison/Dark: 1 cells >= 2\n",
      "Bug/Steel: 1 cells >= 2\n",
      "Ghost/Dark: 1 cells >= 2\n",
      "Normal/Electric: 2 cells >= 2\n",
      "Normal/Poison: 2 cells >= 2\n",
      "Normal/Psychic: 2 cells >= 2\n",
      "Normal/Fairy: 2 cells >= 2\n",
      "Fire/Ground: 2 cells >= 2\n",
      "Water/Electric: 2 cells >= 2\n",
      "Water/Flying: 2 cells >= 2\n",
      "Water/Dragon: 2 cells >= 2\n",
      "Electric/Poison: 2 cells >= 2\n",
      "Electric/Flying: 2 cells >= 2\n",
      "Electric/Bug: 2 cells >= 2\n",
      "Electric/Fairy: 2 cells >= 2\n",
      "Grass/Steel: 2 cells >= 2\n",
      "Poison/Steel: 2 cells >= 2\n",
      "Ground/Flying: 2 cells >= 2\n",
      "Flying/Steel: 2 cells >= 2\n",
      "Psychic/Ghost: 2 cells >= 2\n",
      "Psychic/Dark: 2 cells >= 2\n",
      "Ghost/Fairy: 2 cells >= 2\n",
      "Dragon/Steel: 2 cells >= 2\n",
      "Steel/Fairy: 2 cells >= 2\n",
      "Normal/Water: 3 cells >= 2\n",
      "Normal/Flying: 3 cells >= 2\n",
      "Normal/Bug: 3 cells >= 2\n",
      "Normal/Dark: 3 cells >= 2\n",
      "Normal/Steel: 3 cells >= 2\n",
      "Fire/Water: 3 cells >= 2\n",
      "Fire/Electric: 3 cells >= 2\n",
      "Fire/Grass: 3 cells >= 2\n",
      "Fire/Flying: 3 cells >= 2\n",
      "Fire/Bug: 3 cells >= 2\n",
      "Fire/Dragon: 3 cells >= 2\n",
      "Fire/Steel: 3 cells >= 2\n",
      "Water/Grass: 3 cells >= 2\n",
      "Water/Poison: 3 cells >= 2\n",
      "Water/Bug: 3 cells >= 2\n",
      "Water/Steel: 3 cells >= 2\n",
      "Water/Fairy: 3 cells >= 2\n",
      "Electric/Fighting: 3 cells >= 2\n",
      "Electric/Ghost: 3 cells >= 2\n",
      "Electric/Steel: 3 cells >= 2\n",
      "Ice/Steel: 3 cells >= 2\n",
      "Fighting/Poison: 3 cells >= 2\n",
      "Fighting/Psychic: 3 cells >= 2\n",
      "Fighting/Dark: 3 cells >= 2\n",
      "Fighting/Steel: 3 cells >= 2\n",
      "Poison/Psychic: 3 cells >= 2\n",
      "Poison/Fairy: 3 cells >= 2\n",
      "Ground/Dragon: 3 cells >= 2\n",
      "Psychic/Fairy: 3 cells >= 2\n",
      "Bug/Rock: 3 cells >= 2\n",
      "Rock/Steel: 3 cells >= 2\n",
      "Dark/Steel: 3 cells >= 2\n",
      "Dark/Fairy: 3 cells >= 2\n",
      "Normal/Fire: 4 cells >= 2\n",
      "Normal/Ice: 4 cells >= 2\n",
      "Normal/Fighting: 4 cells >= 2\n",
      "Normal/Ground: 4 cells >= 2\n",
      "Normal/Dragon: 4 cells >= 2\n",
      "Fire/Ice: 4 cells >= 2\n",
      "Fire/Fighting: 4 cells >= 2\n",
      "Fire/Poison: 4 cells >= 2\n",
      "Fire/Rock: 4 cells >= 2\n",
      "Fire/Dark: 4 cells >= 2\n",
      "Fire/Fairy: 4 cells >= 2\n",
      "Water/Ice: 4 cells >= 2\n",
      "Water/Rock: 4 cells >= 2\n",
      "Water/Ghost: 4 cells >= 2\n",
      "Electric/Grass: 4 cells >= 2\n",
      "Electric/Ice: 4 cells >= 2\n",
      "Electric/Ground: 4 cells >= 2\n",
      "Electric/Psychic: 4 cells >= 2\n",
      "Electric/Rock: 4 cells >= 2\n",
      "Electric/Dragon: 4 cells >= 2\n",
      "Electric/Dark: 4 cells >= 2\n",
      "Grass/Poison: 4 cells >= 2\n",
      "Grass/Ground: 4 cells >= 2\n",
      "Grass/Rock: 4 cells >= 2\n",
      "Ice/Flying: 4 cells >= 2\n",
      "Ice/Bug: 4 cells >= 2\n",
      "Ice/Fairy: 4 cells >= 2\n",
      "Fighting/Bug: 4 cells >= 2\n",
      "Fighting/Ghost: 4 cells >= 2\n",
      "Poison/Ground: 4 cells >= 2\n",
      "Poison/Flying: 4 cells >= 2\n",
      "Poison/Bug: 4 cells >= 2\n",
      "Poison/Rock: 4 cells >= 2\n",
      "Poison/Ghost: 4 cells >= 2\n",
      "Poison/Dragon: 4 cells >= 2\n",
      "Ground/Bug: 4 cells >= 2\n",
      "Ground/Steel: 4 cells >= 2\n",
      "Ground/Fairy: 4 cells >= 2\n",
      "Flying/Dragon: 4 cells >= 2\n",
      "Flying/Dark: 4 cells >= 2\n",
      "Psychic/Steel: 4 cells >= 2\n",
      "Rock/Fairy: 4 cells >= 2\n",
      "Ghost/Steel: 4 cells >= 2\n",
      "Dragon/Fairy: 4 cells >= 2\n",
      "Normal/Rock: 5 cells >= 2\n",
      "Fire/Psychic: 5 cells >= 2\n",
      "Fire/Ghost: 5 cells >= 2\n",
      "Water/Fighting: 5 cells >= 2\n",
      "Water/Psychic: 5 cells >= 2\n",
      "Water/Dark: 5 cells >= 2\n",
      "Grass/Flying: 5 cells >= 2\n",
      "Grass/Ghost: 5 cells >= 2\n",
      "Grass/Fairy: 5 cells >= 2\n",
      "Ice/Poison: 5 cells >= 2\n",
      "Ice/Ground: 5 cells >= 2\n",
      "Ice/Ghost: 5 cells >= 2\n",
      "Ice/Dragon: 5 cells >= 2\n",
      "Fighting/Flying: 5 cells >= 2\n",
      "Fighting/Dragon: 5 cells >= 2\n",
      "Fighting/Fairy: 5 cells >= 2\n",
      "Ground/Ghost: 5 cells >= 2\n",
      "Flying/Psychic: 5 cells >= 2\n",
      "Flying/Bug: 5 cells >= 2\n",
      "Flying/Rock: 5 cells >= 2\n",
      "Flying/Ghost: 5 cells >= 2\n",
      "Flying/Fairy: 5 cells >= 2\n",
      "Bug/Ghost: 5 cells >= 2\n",
      "Bug/Dragon: 5 cells >= 2\n",
      "Bug/Dark: 5 cells >= 2\n",
      "Bug/Fairy: 5 cells >= 2\n",
      "Ghost/Dragon: 5 cells >= 2\n",
      "Dragon/Dark: 5 cells >= 2\n",
      "Normal/Grass: 6 cells >= 2\n",
      "Grass/Fighting: 6 cells >= 2\n",
      "Grass/Bug: 6 cells >= 2\n",
      "Grass/Dragon: 6 cells >= 2\n",
      "Ice/Fighting: 6 cells >= 2\n",
      "Ice/Psychic: 6 cells >= 2\n",
      "Ice/Rock: 6 cells >= 2\n",
      "Ice/Dark: 6 cells >= 2\n",
      "Fighting/Ground: 6 cells >= 2\n",
      "Ground/Psychic: 6 cells >= 2\n",
      "Ground/Rock: 6 cells >= 2\n",
      "Ground/Dark: 6 cells >= 2\n",
      "Psychic/Bug: 6 cells >= 2\n",
      "Psychic/Dragon: 6 cells >= 2\n",
      "Rock/Ghost: 6 cells >= 2\n",
      "Rock/Dragon: 6 cells >= 2\n",
      "Grass/Ice: 7 cells >= 2\n",
      "Grass/Psychic: 7 cells >= 2\n",
      "Grass/Dark: 7 cells >= 2\n",
      "Fighting/Rock: 7 cells >= 2\n",
      "Psychic/Rock: 7 cells >= 2\n",
      "Rock/Dark: 7 cells >= 2\n"
     ]
    }
   ],
   "source": [
    "import pandas as pd\n",
    "\n",
    "# Read the CSV chart into a pandas dataframe\n",
    "df = pd.read_csv('Input/type_data.csv', index_col=0)\n",
    "\n",
    "# List of all types\n",
    "types = df.columns.tolist()\n",
    "\n",
    "# Function to calculate effectiveness for a given type combination\n",
    "def calculate_effectiveness(type1, type2):\n",
    "    temp_list = df[type1] * df[type2]\n",
    "    return temp_list[temp_list >= 2].count()\n",
    "\n",
    "# List to store type combinations and their effectiveness counts\n",
    "effectiveness_list = []\n",
    "\n",
    "# Iterate over all possible type combinations\n",
    "for i in range(len(types)):\n",
    "    for j in range(i+1, len(types)):\n",
    "        type1 = types[i]\n",
    "        type2 = types[j]\n",
    "        effectiveness_count = calculate_effectiveness(type1, type2)\n",
    "        effectiveness_list.append({'Type Combination': f\"{type1}/{type2}\", 'Effectiveness Count': effectiveness_count})\n",
    "\n",
    "# Sort the list based on effectiveness count\n",
    "sorted_list = sorted(effectiveness_list, key=lambda x: x['Effectiveness Count'])\n",
    "\n",
    "# Print the sorted list\n",
    "for item in sorted_list:\n",
    "    print(f\"{item['Type Combination']}: {item['Effectiveness Count']} cells >= 2\")\n"
   ]
  },
  {
   "cell_type": "markdown",
   "metadata": {},
   "source": [
    "The next step is to determine which combinations have the least amount of weaknesses against all other singular types.\n",
    "In this case, it's pretty easy to calculate. For pokemon games, if a pokemon is dual-typed and recieve damage from a single-typed move; they will modify the multiplier based on the effectiveness against both types for that pokemon. \n",
    "\n",
    "For example; if You have a Normal/Dark Type that is hit with a fighting type move it will take the normal type's multiplier against fighting types (2) and multiply it against the multiplier for a dark type's multiplier against fighting types (2 again), resulting multiplier will be 4 times the original damage. \n",
    "\n",
    "So in order to cover as many bases as possible; the desired type combination has to not only mitigate the amount of x2 effectiveness, but also x4 effectiveness as well.\n",
    "\n",
    "For that reason, after making the list, it is then sorted by the total number of prevalent weaknesses, with the result being 5 type combinations in particular that only have one type disadvantage."
   ]
  },
  {
   "cell_type": "code",
   "execution_count": 10,
   "metadata": {},
   "outputs": [
    {
     "name": "stdout",
     "output_type": "stream",
     "text": [
      "Normal/Ghost has an effectiveness count of 1 due to a value of 2.0 caused by Dark\n",
      "Water/Ground has an effectiveness count of 1 due to a value of 4.0 caused by Grass\n",
      "Poison/Dark has an effectiveness count of 1 due to a value of 2.0 caused by Ground\n",
      "Bug/Steel has an effectiveness count of 1 due to a value of 4.0 caused by Fire\n",
      "Ghost/Dark has an effectiveness count of 1 due to a value of 2.0 caused by Fairy\n"
     ]
    }
   ],
   "source": [
    "# Find type combinations with an effectiveness count of 1\n",
    "effectiveness_count_1 = [item for item in sorted_list if item['Effectiveness Count'] == 1]\n",
    "\n",
    "# Determine the reason for effectiveness count of 1\n",
    "for item in effectiveness_count_1:\n",
    "    type1, type2 = item['Type Combination'].split('/')\n",
    "    reason_value = None\n",
    "    reason_type = None\n",
    "    for t in types:\n",
    "        effectiveness = df.loc[t, type1] * df.loc[t, type2]\n",
    "        if effectiveness >= 2:\n",
    "            reason_value = effectiveness\n",
    "            reason_type = t\n",
    "            break\n",
    "    print(f\"{item['Type Combination']} has an effectiveness count of 1 due to a value of {reason_value} caused by {reason_type}\")\n"
   ]
  },
  {
   "cell_type": "markdown",
   "metadata": {},
   "source": [
    "Next, after finding out which types are the most successful in weakness mitigation, it's time to figure out which types have the most detrimental weakness, this is to further process which type combinations have the best chance against all types within the game. From the following processed data it seems that 2 out of the 5 type combinations are still heavily weak (4x weakness) to one type; in order to find the \"best type\" it's imperative that it's weakness in a matchup is as little as possible. As a result; Bug/Steel, and Water/Ground cannot make the cut.\n",
    "\n",
    "After evaluation there are 3 total types left to be considered. Normal/Ghost, Poison/Dark, and Ghost/Dark. To find out which is best suited against type matchups, their strengths will now be assessed."
   ]
  },
  {
   "cell_type": "code",
   "execution_count": 11,
   "metadata": {},
   "outputs": [
    {
     "data": {
      "image/png": "[encoded data removed]",
      "text/plain": [
       "<Figure size 1000x600 with 1 Axes>"
      ]
     },
     "metadata": {},
     "output_type": "display_data"
    }
   ],
   "source": [
    "# Read the CSV file\n",
    "data = pokemon_dataframe\n",
    "\n",
    "# Count the number of occurrences for each type\n",
    "primary_type_counts = data['Primary Type'].value_counts()\n",
    "secondary_type_counts = data['Secondary Type'].value_counts()\n",
    "\n",
    "# Combine the primary and secondary type counts\n",
    "type_counts = primary_type_counts.add(secondary_type_counts, fill_value=0)\n",
    "\n",
    "# Sort the type counts in descending order\n",
    "sorted_type_counts = type_counts.sort_values(ascending=False)\n",
    "\n",
    "# Extract the top 18 types\n",
    "top_18_types = sorted_type_counts.head(18)\n",
    "\n",
    "# Create a bar graph\n",
    "plt.figure(figsize=(10, 6))\n",
    "top_18_types.plot(kind='bar')\n",
    "plt.xlabel('Pokemon Type')\n",
    "plt.ylabel('Count')\n",
    "plt.title('Number of Pokemon per Type')\n",
    "plt.xticks(rotation=45)\n",
    "plt.tight_layout()\n",
    "\n",
    "# Display the graph\n",
    "plt.show()\n"
   ]
  },
  {
   "cell_type": "markdown",
   "metadata": {},
   "source": [
    "\"Which ones are best against other existing pokemon and their typing on average?\"\n",
    "\n",
    "to figure this out, data from all the pokemon that exist will be used again. This time with the goal to find the most common type between all pokemon for both primary and secondary typings, this gives us a better insight as to what moves are best used against them from the hypothetical combinations."
   ]
  },
  {
   "cell_type": "code",
   "execution_count": 12,
   "metadata": {},
   "outputs": [
    {
     "name": "stdout",
     "output_type": "stream",
     "text": [
      "Advantages for Normal/Ghost: Psychic, Ghost\n",
      "Advantages for Poison/Dark: Grass, Fairy, Psychic, Ghost\n",
      "Advantages for Ghost/Dark: Psychic, Ghost\n"
     ]
    }
   ],
   "source": [
    "import csv\n",
    "\n",
    "# Load the CSV chart\n",
    "chart = {}\n",
    "with open('Input/type_data.csv', 'r') as csvfile:\n",
    "    reader = csv.reader(csvfile)\n",
    "    headers = next(reader)\n",
    "    for row in reader:\n",
    "        attacking_type = row[0]\n",
    "        chart[attacking_type] = {}\n",
    "        for i in range(1, len(row)):\n",
    "            defending_type = headers[i]\n",
    "            chart[attacking_type][defending_type] = float(row[i])\n",
    "\n",
    "# Define the type combinations\n",
    "combinations = [\n",
    "    ('Normal', 'Ghost'),\n",
    "    ('Poison', 'Dark'),\n",
    "    ('Ghost', 'Dark')\n",
    "]\n",
    "\n",
    "# Calculate advantages for each combination\n",
    "for combination in combinations:\n",
    "    type1, type2 = combination\n",
    "    advantages = []\n",
    "\n",
    "    # Check the advantages in the two attacking rows\n",
    "    for defending_type in chart[type1]:\n",
    "        if chart[type1][defending_type] > 1:\n",
    "            advantages.append(defending_type)\n",
    "\n",
    "    for defending_type in chart[type2]:\n",
    "        if chart[type2][defending_type] > 1 and defending_type not in advantages:\n",
    "            advantages.append(defending_type)\n",
    "\n",
    "    print(f\"Advantages for {type1}/{type2}: {', '.join(advantages)}\")\n"
   ]
  },
  {
   "cell_type": "markdown",
   "metadata": {},
   "source": [
    "From the information above a final conclusion has been drawn. Poison/Dark types are the best against most pokemon on all fronts. \n",
    "\n",
    "- It has the least amount of weaknesses; with it's only weakness being ground types.\n",
    "- It has the most advantageous matchups against 4 different types of pokemon, along with most amount of pokemon it can best battle against compared to the other two, which have less than the number of matchups and has type advantages already included in Poison/Dark.\n",
    "\n",
    "(Side note: good runner up however is Ghost/Dark. due to further personal analysis it seems that Ghost and Dark have 4x effectiveness against both Psychic & Ghost types)\n",
    "\n",
    "FPosion/Dark is the current best type out of all of Pokemon, but are there any Poison/Dark types in Pokemon today?"
   ]
  },
  {
   "cell_type": "code",
   "execution_count": 16,
   "metadata": {},
   "outputs": [
    {
     "name": "stdout",
     "output_type": "stream",
     "text": [
      "stunky\n",
      "skuntank\n",
      "drapion\n",
      "overqwil\n"
     ]
    }
   ],
   "source": [
    "def list_pokemon_with_typing(csv_file, type1, type2):\n",
    "    with open(csv_file, 'r') as file:\n",
    "        reader = csv.DictReader(file)\n",
    "        for row in reader:\n",
    "            if (\n",
    "                (row['Primary Type'] == type1 and row['Secondary Type'] == type2) or\n",
    "                (row['Primary Type'] == type2 and row['Secondary Type'] == type1)\n",
    "            ):\n",
    "                print(row['Name'])\n",
    "\n",
    "csv_file = 'Output/pokemon_data.csv'\n",
    "type1 = 'poison'\n",
    "type2 = 'dark'\n",
    "\n",
    "list_pokemon_with_typing(csv_file, type1, type2)\n"
   ]
  },
  {
   "cell_type": "markdown",
   "metadata": {},
   "source": [
    "The Answer is Yes! So next time someone is looking for a pokemon that is a good all-arounder, definitely take some of these pokemon into consideration!"
   ]
  },
  {
   "cell_type": "code",
   "execution_count": null,
   "metadata": {},
   "outputs": [],
   "source": []
  }
 ],
 "metadata": {
  "kernelspec": {
   "display_name": "Python 3 (ipykernel)",
   "language": "python",
   "name": "python3"
  },
  "language_info": {
   "codemirror_mode": {
    "name": "ipython",
    "version": 3
   },
   "file_extension": ".py",
   "mimetype": "text/x-python",
   "name": "python",
   "nbconvert_exporter": "python",
   "pygments_lexer": "ipython3",
   "version": "3.11.3"
  },
  "toc-autonumbering": true
 },
 "nbformat": 4,
 "nbformat_minor": 4
}
